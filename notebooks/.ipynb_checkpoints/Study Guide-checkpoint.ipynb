{
 "cells": [
  {
   "cell_type": "markdown",
   "id": "f4156089-874f-4924-8417-4d5f3381c370",
   "metadata": {},
   "source": [
    "## What is elasticity Estimation\n",
    "---"
   ]
  },
  {
   "cell_type": "markdown",
   "id": "a00d8a54-1c76-4bfd-ae3d-4777c05f5bdf",
   "metadata": {},
   "source": [
    "Elasticity measures how responsive one variable is to a change in another:\n",
    "$$\n",
    "Elasticity = \\frac{\\%\\ \\Delta Y}{\\%\\ \\Delta X}\n",
    "$$\n",
    "\n",
    "|**Type**|Meaning|\n",
    "|--------|-------|\n",
    "|Price Elasticity of Demand| How much demand changes when price changes |\n",
    "|Income Elasticity| How demand changes when income changes |\n",
    "|Cross Elasticity| How demand for Product A changes when price of Product B changes |\n"
   ]
  },
  {
   "cell_type": "markdown",
   "id": "d47fda21-5000-4182-b842-13b29278ca1d",
   "metadata": {},
   "source": [
    "## Usage of Elasticity Estimation\n",
    "---"
   ]
  },
  {
   "cell_type": "markdown",
   "id": "3ff77f17-0a9a-4740-86d0-863f94c88f3f",
   "metadata": {},
   "source": [
    "|domain | Example |\n",
    "|-------|---------|\n",
    "|Retail| Pricing strategy - increase price but minimize loss in demand |\n",
    "|Energy| How demand changes with fuel price changes|\n",
    "|Transportation|Forecasting demand shifts due to fare hikes|\n",
    "|Finance| How investor behavior (volumne returns) responds to change in price, earnings, sentiment, etc|\n"
   ]
  },
  {
   "cell_type": "code",
   "execution_count": null,
   "id": "ea465495-6a97-45e6-aa11-c886fe5d102a",
   "metadata": {},
   "outputs": [],
   "source": []
  }
 ],
 "metadata": {
  "kernelspec": {
   "display_name": "Python 3 (ipykernel)",
   "language": "python",
   "name": "python3"
  },
  "language_info": {
   "codemirror_mode": {
    "name": "ipython",
    "version": 3
   },
   "file_extension": ".py",
   "mimetype": "text/x-python",
   "name": "python",
   "nbconvert_exporter": "python",
   "pygments_lexer": "ipython3",
   "version": "3.12.8"
  }
 },
 "nbformat": 4,
 "nbformat_minor": 5
}
